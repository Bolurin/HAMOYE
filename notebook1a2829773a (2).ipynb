{
 "cells": [
  {
   "cell_type": "code",
   "execution_count": 1,
   "id": "9e6a185d",
   "metadata": {
    "_cell_guid": "b1076dfc-b9ad-4769-8c92-a6c4dae69d19",
    "_uuid": "8f2839f25d086af736a60e9eeb907d3b93b6e0e5",
    "execution": {
     "iopub.execute_input": "2023-03-21T08:15:25.215126Z",
     "iopub.status.busy": "2023-03-21T08:15:25.214680Z",
     "iopub.status.idle": "2023-03-21T08:15:25.225629Z",
     "shell.execute_reply": "2023-03-21T08:15:25.224742Z"
    },
    "papermill": {
     "duration": 0.022257,
     "end_time": "2023-03-21T08:15:25.227823",
     "exception": false,
     "start_time": "2023-03-21T08:15:25.205566",
     "status": "completed"
    },
    "tags": []
   },
   "outputs": [],
   "source": [
    "# Imporing Required Libraries\n",
    "\n",
    "import pandas as pd\n",
    "import numpy as np"
   ]
  },
  {
   "cell_type": "code",
   "execution_count": 2,
   "id": "5869a963",
   "metadata": {
    "execution": {
     "iopub.execute_input": "2023-03-21T08:15:25.242733Z",
     "iopub.status.busy": "2023-03-21T08:15:25.241851Z",
     "iopub.status.idle": "2023-03-21T08:15:33.317611Z",
     "shell.execute_reply": "2023-03-21T08:15:33.316512Z"
    },
    "papermill": {
     "duration": 8.085694,
     "end_time": "2023-03-21T08:15:33.320135",
     "exception": false,
     "start_time": "2023-03-21T08:15:25.234441",
     "status": "completed"
    },
    "tags": []
   },
   "outputs": [],
   "source": [
    "# Libraries for Data Visualisation\n",
    "import os\n",
    "import cv2\n",
    "import pandas as pd\n",
    "import numpy as np\n",
    "import gc\n",
    "import matplotlib.pyplot as plt\n",
    "from matplotlib.image import imread\n",
    "from sklearn.metrics import fbeta_score\n",
    "from tqdm import tqdm\n",
    "import tensorflow as tf\n",
    "from keras import optimizers\n",
    "from tensorflow.keras.models import Sequential \n",
    "from tensorflow.keras.preprocessing.image import ImageDataGenerator\n",
    "from tensorflow.keras.layers import Input , Dense , Dropout , Flatten,\\\n",
    "Conv2D,MaxPooling2D , BatchNormalization\n",
    "from keras.callbacks import ModelCheckpoint, EarlyStopping, ReduceLROnPlateau, History\n",
    "import tensorflow_addons as tfa"
   ]
  },
  {
   "cell_type": "code",
   "execution_count": 3,
   "id": "f60e646f",
   "metadata": {
    "execution": {
     "iopub.execute_input": "2023-03-21T08:15:33.335033Z",
     "iopub.status.busy": "2023-03-21T08:15:33.334388Z",
     "iopub.status.idle": "2023-03-21T08:15:33.346835Z",
     "shell.execute_reply": "2023-03-21T08:15:33.345838Z"
    },
    "papermill": {
     "duration": 0.022069,
     "end_time": "2023-03-21T08:15:33.348865",
     "exception": false,
     "start_time": "2023-03-21T08:15:33.326796",
     "status": "completed"
    },
    "tags": []
   },
   "outputs": [
    {
     "data": {
      "text/plain": [
       "['planet', 'test-jpg-additional']"
      ]
     },
     "execution_count": 3,
     "metadata": {},
     "output_type": "execute_result"
    }
   ],
   "source": [
    "path = \"../input/planets-dataset/\"\n",
    "os.listdir(path)"
   ]
  },
  {
   "cell_type": "code",
   "execution_count": 4,
   "id": "d66a6331",
   "metadata": {
    "execution": {
     "iopub.execute_input": "2023-03-21T08:15:33.363873Z",
     "iopub.status.busy": "2023-03-21T08:15:33.363203Z",
     "iopub.status.idle": "2023-03-21T08:15:33.441355Z",
     "shell.execute_reply": "2023-03-21T08:15:33.440340Z"
    },
    "papermill": {
     "duration": 0.088046,
     "end_time": "2023-03-21T08:15:33.443482",
     "exception": false,
     "start_time": "2023-03-21T08:15:33.355436",
     "status": "completed"
    },
    "tags": []
   },
   "outputs": [
    {
     "data": {
      "text/html": [
       "<div>\n",
       "<style scoped>\n",
       "    .dataframe tbody tr th:only-of-type {\n",
       "        vertical-align: middle;\n",
       "    }\n",
       "\n",
       "    .dataframe tbody tr th {\n",
       "        vertical-align: top;\n",
       "    }\n",
       "\n",
       "    .dataframe thead th {\n",
       "        text-align: right;\n",
       "    }\n",
       "</style>\n",
       "<table border=\"1\" class=\"dataframe\">\n",
       "  <thead>\n",
       "    <tr style=\"text-align: right;\">\n",
       "      <th></th>\n",
       "      <th>image_name</th>\n",
       "      <th>tags</th>\n",
       "    </tr>\n",
       "  </thead>\n",
       "  <tbody>\n",
       "    <tr>\n",
       "      <th>0</th>\n",
       "      <td>train_0</td>\n",
       "      <td>haze primary</td>\n",
       "    </tr>\n",
       "    <tr>\n",
       "      <th>1</th>\n",
       "      <td>train_1</td>\n",
       "      <td>agriculture clear primary water</td>\n",
       "    </tr>\n",
       "    <tr>\n",
       "      <th>2</th>\n",
       "      <td>train_2</td>\n",
       "      <td>clear primary</td>\n",
       "    </tr>\n",
       "    <tr>\n",
       "      <th>3</th>\n",
       "      <td>train_3</td>\n",
       "      <td>clear primary</td>\n",
       "    </tr>\n",
       "    <tr>\n",
       "      <th>4</th>\n",
       "      <td>train_4</td>\n",
       "      <td>agriculture clear habitation primary road</td>\n",
       "    </tr>\n",
       "  </tbody>\n",
       "</table>\n",
       "</div>"
      ],
      "text/plain": [
       "  image_name                                       tags\n",
       "0    train_0                               haze primary\n",
       "1    train_1            agriculture clear primary water\n",
       "2    train_2                              clear primary\n",
       "3    train_3                              clear primary\n",
       "4    train_4  agriculture clear habitation primary road"
      ]
     },
     "execution_count": 4,
     "metadata": {},
     "output_type": "execute_result"
    }
   ],
   "source": [
    "train_label = pd.read_csv(\"/kaggle/input/planets-dataset/planet/planet/train_classes.csv\")\n",
    "train_label.head()"
   ]
  },
  {
   "cell_type": "code",
   "execution_count": 5,
   "id": "63c1282a",
   "metadata": {
    "execution": {
     "iopub.execute_input": "2023-03-21T08:15:33.460192Z",
     "iopub.status.busy": "2023-03-21T08:15:33.458346Z",
     "iopub.status.idle": "2023-03-21T08:15:33.512003Z",
     "shell.execute_reply": "2023-03-21T08:15:33.510868Z"
    },
    "papermill": {
     "duration": 0.06369,
     "end_time": "2023-03-21T08:15:33.514037",
     "exception": false,
     "start_time": "2023-03-21T08:15:33.450347",
     "status": "completed"
    },
    "tags": []
   },
   "outputs": [
    {
     "name": "stdout",
     "output_type": "stream",
     "text": [
      "['clear', 'road', 'partly_cloudy', 'conventional_mine', 'blooming', 'habitation', 'primary', 'bare_ground', 'selective_logging', 'agriculture', 'water', 'cultivation', 'slash_burn', 'artisinal_mine', 'blow_down', 'cloudy', 'haze']\n"
     ]
    }
   ],
   "source": [
    "labels = set()\n",
    "def splitting_tags(tags):\n",
    "    '''\n",
    "    Takes in tags column, splits the tags and store as a set\n",
    "    '''\n",
    "    [labels.add(tag) for tag in tags.split()]\n",
    "    \n",
    "# Create a copy of train_label\n",
    "train = train_label.copy()\n",
    "train['tags'].apply(splitting_tags)\n",
    "labels = list(labels)\n",
    "print(labels)"
   ]
  },
  {
   "cell_type": "code",
   "execution_count": 6,
   "id": "d701cc1c",
   "metadata": {
    "execution": {
     "iopub.execute_input": "2023-03-21T08:15:33.529347Z",
     "iopub.status.busy": "2023-03-21T08:15:33.529031Z",
     "iopub.status.idle": "2023-03-21T08:15:33.944941Z",
     "shell.execute_reply": "2023-03-21T08:15:33.943909Z"
    },
    "papermill": {
     "duration": 0.426073,
     "end_time": "2023-03-21T08:15:33.947262",
     "exception": false,
     "start_time": "2023-03-21T08:15:33.521189",
     "status": "completed"
    },
    "tags": []
   },
   "outputs": [
    {
     "data": {
      "text/html": [
       "<div>\n",
       "<style scoped>\n",
       "    .dataframe tbody tr th:only-of-type {\n",
       "        vertical-align: middle;\n",
       "    }\n",
       "\n",
       "    .dataframe tbody tr th {\n",
       "        vertical-align: top;\n",
       "    }\n",
       "\n",
       "    .dataframe thead th {\n",
       "        text-align: right;\n",
       "    }\n",
       "</style>\n",
       "<table border=\"1\" class=\"dataframe\">\n",
       "  <thead>\n",
       "    <tr style=\"text-align: right;\">\n",
       "      <th></th>\n",
       "      <th>image_name</th>\n",
       "      <th>tags</th>\n",
       "      <th>clear</th>\n",
       "      <th>road</th>\n",
       "      <th>partly_cloudy</th>\n",
       "      <th>conventional_mine</th>\n",
       "      <th>blooming</th>\n",
       "      <th>habitation</th>\n",
       "      <th>primary</th>\n",
       "      <th>bare_ground</th>\n",
       "      <th>selective_logging</th>\n",
       "      <th>agriculture</th>\n",
       "      <th>water</th>\n",
       "      <th>cultivation</th>\n",
       "      <th>slash_burn</th>\n",
       "      <th>artisinal_mine</th>\n",
       "      <th>blow_down</th>\n",
       "      <th>cloudy</th>\n",
       "      <th>haze</th>\n",
       "    </tr>\n",
       "  </thead>\n",
       "  <tbody>\n",
       "    <tr>\n",
       "      <th>0</th>\n",
       "      <td>train_0.jpg</td>\n",
       "      <td>haze primary</td>\n",
       "      <td>0</td>\n",
       "      <td>0</td>\n",
       "      <td>0</td>\n",
       "      <td>0</td>\n",
       "      <td>0</td>\n",
       "      <td>0</td>\n",
       "      <td>1</td>\n",
       "      <td>0</td>\n",
       "      <td>0</td>\n",
       "      <td>0</td>\n",
       "      <td>0</td>\n",
       "      <td>0</td>\n",
       "      <td>0</td>\n",
       "      <td>0</td>\n",
       "      <td>0</td>\n",
       "      <td>0</td>\n",
       "      <td>1</td>\n",
       "    </tr>\n",
       "    <tr>\n",
       "      <th>1</th>\n",
       "      <td>train_1.jpg</td>\n",
       "      <td>agriculture clear primary water</td>\n",
       "      <td>1</td>\n",
       "      <td>0</td>\n",
       "      <td>0</td>\n",
       "      <td>0</td>\n",
       "      <td>0</td>\n",
       "      <td>0</td>\n",
       "      <td>1</td>\n",
       "      <td>0</td>\n",
       "      <td>0</td>\n",
       "      <td>1</td>\n",
       "      <td>1</td>\n",
       "      <td>0</td>\n",
       "      <td>0</td>\n",
       "      <td>0</td>\n",
       "      <td>0</td>\n",
       "      <td>0</td>\n",
       "      <td>0</td>\n",
       "    </tr>\n",
       "    <tr>\n",
       "      <th>2</th>\n",
       "      <td>train_2.jpg</td>\n",
       "      <td>clear primary</td>\n",
       "      <td>1</td>\n",
       "      <td>0</td>\n",
       "      <td>0</td>\n",
       "      <td>0</td>\n",
       "      <td>0</td>\n",
       "      <td>0</td>\n",
       "      <td>1</td>\n",
       "      <td>0</td>\n",
       "      <td>0</td>\n",
       "      <td>0</td>\n",
       "      <td>0</td>\n",
       "      <td>0</td>\n",
       "      <td>0</td>\n",
       "      <td>0</td>\n",
       "      <td>0</td>\n",
       "      <td>0</td>\n",
       "      <td>0</td>\n",
       "    </tr>\n",
       "    <tr>\n",
       "      <th>3</th>\n",
       "      <td>train_3.jpg</td>\n",
       "      <td>clear primary</td>\n",
       "      <td>1</td>\n",
       "      <td>0</td>\n",
       "      <td>0</td>\n",
       "      <td>0</td>\n",
       "      <td>0</td>\n",
       "      <td>0</td>\n",
       "      <td>1</td>\n",
       "      <td>0</td>\n",
       "      <td>0</td>\n",
       "      <td>0</td>\n",
       "      <td>0</td>\n",
       "      <td>0</td>\n",
       "      <td>0</td>\n",
       "      <td>0</td>\n",
       "      <td>0</td>\n",
       "      <td>0</td>\n",
       "      <td>0</td>\n",
       "    </tr>\n",
       "    <tr>\n",
       "      <th>4</th>\n",
       "      <td>train_4.jpg</td>\n",
       "      <td>agriculture clear habitation primary road</td>\n",
       "      <td>1</td>\n",
       "      <td>1</td>\n",
       "      <td>0</td>\n",
       "      <td>0</td>\n",
       "      <td>0</td>\n",
       "      <td>1</td>\n",
       "      <td>1</td>\n",
       "      <td>0</td>\n",
       "      <td>0</td>\n",
       "      <td>1</td>\n",
       "      <td>0</td>\n",
       "      <td>0</td>\n",
       "      <td>0</td>\n",
       "      <td>0</td>\n",
       "      <td>0</td>\n",
       "      <td>0</td>\n",
       "      <td>0</td>\n",
       "    </tr>\n",
       "  </tbody>\n",
       "</table>\n",
       "</div>"
      ],
      "text/plain": [
       "    image_name                                       tags  clear  road  \\\n",
       "0  train_0.jpg                               haze primary      0     0   \n",
       "1  train_1.jpg            agriculture clear primary water      1     0   \n",
       "2  train_2.jpg                              clear primary      1     0   \n",
       "3  train_3.jpg                              clear primary      1     0   \n",
       "4  train_4.jpg  agriculture clear habitation primary road      1     1   \n",
       "\n",
       "   partly_cloudy  conventional_mine  blooming  habitation  primary  \\\n",
       "0              0                  0         0           0        1   \n",
       "1              0                  0         0           0        1   \n",
       "2              0                  0         0           0        1   \n",
       "3              0                  0         0           0        1   \n",
       "4              0                  0         0           1        1   \n",
       "\n",
       "   bare_ground  selective_logging  agriculture  water  cultivation  \\\n",
       "0            0                  0            0      0            0   \n",
       "1            0                  0            1      1            0   \n",
       "2            0                  0            0      0            0   \n",
       "3            0                  0            0      0            0   \n",
       "4            0                  0            1      0            0   \n",
       "\n",
       "   slash_burn  artisinal_mine  blow_down  cloudy  haze  \n",
       "0           0               0          0       0     1  \n",
       "1           0               0          0       0     0  \n",
       "2           0               0          0       0     0  \n",
       "3           0               0          0       0     0  \n",
       "4           0               0          0       0     0  "
      ]
     },
     "execution_count": 6,
     "metadata": {},
     "output_type": "execute_result"
    }
   ],
   "source": [
    "##One hot encoding is performed on the labels in train classes \n",
    "\n",
    "for tag in labels:\n",
    "    train[tag] = train['tags'].apply(lambda x: 1 if tag in x.split() else 0)\n",
    "    \n",
    "## adding .jpg extension to the column image_name so as to have same name format as the image files\n",
    "train['image_name'] = train['image_name'].apply(lambda x: '{}.jpg'.format(x))\n",
    "train.head()"
   ]
  },
  {
   "cell_type": "code",
   "execution_count": 7,
   "id": "3243ae49",
   "metadata": {
    "execution": {
     "iopub.execute_input": "2023-03-21T08:15:33.963301Z",
     "iopub.status.busy": "2023-03-21T08:15:33.962555Z",
     "iopub.status.idle": "2023-03-21T08:15:33.969216Z",
     "shell.execute_reply": "2023-03-21T08:15:33.968343Z"
    },
    "papermill": {
     "duration": 0.016951,
     "end_time": "2023-03-21T08:15:33.971393",
     "exception": false,
     "start_time": "2023-03-21T08:15:33.954442",
     "status": "completed"
    },
    "tags": []
   },
   "outputs": [],
   "source": [
    "#importing libraries for training\n",
    "import tensorflow as tf\n",
    "from tensorflow.keras.models import Sequential\n",
    "from tensorflow.keras.layers import Dense, BatchNormalization, Conv2D, MaxPooling2D\n",
    "from tensorflow.keras.layers import Dropout, Flatten\n",
    "from tensorflow.keras.optimizers import Adam, SGD\n",
    "from tensorflow.keras.callbacks import EarlyStopping, ModelCheckpoint, TensorBoard\n",
    "from tensorflow.keras.preprocessing.image import ImageDataGenerator"
   ]
  },
  {
   "cell_type": "code",
   "execution_count": 8,
   "id": "fdbe9e5c",
   "metadata": {
    "execution": {
     "iopub.execute_input": "2023-03-21T08:15:33.988062Z",
     "iopub.status.busy": "2023-03-21T08:15:33.986429Z",
     "iopub.status.idle": "2023-03-21T08:15:33.991623Z",
     "shell.execute_reply": "2023-03-21T08:15:33.990659Z"
    },
    "papermill": {
     "duration": 0.015195,
     "end_time": "2023-03-21T08:15:33.993690",
     "exception": false,
     "start_time": "2023-03-21T08:15:33.978495",
     "status": "completed"
    },
    "tags": []
   },
   "outputs": [],
   "source": [
    "# Defining the columns,i.e the labels that were newly added to the train_classes via hot encoding.\n",
    "columns = list(train.columns[2:])"
   ]
  },
  {
   "cell_type": "code",
   "execution_count": 9,
   "id": "6a42e192",
   "metadata": {
    "execution": {
     "iopub.execute_input": "2023-03-21T08:15:34.009016Z",
     "iopub.status.busy": "2023-03-21T08:15:34.008234Z",
     "iopub.status.idle": "2023-03-21T08:15:34.014822Z",
     "shell.execute_reply": "2023-03-21T08:15:34.013819Z"
    },
    "papermill": {
     "duration": 0.016508,
     "end_time": "2023-03-21T08:15:34.016984",
     "exception": false,
     "start_time": "2023-03-21T08:15:34.000476",
     "status": "completed"
    },
    "tags": []
   },
   "outputs": [
    {
     "data": {
      "text/plain": [
       "['clear',\n",
       " 'road',\n",
       " 'partly_cloudy',\n",
       " 'conventional_mine',\n",
       " 'blooming',\n",
       " 'habitation',\n",
       " 'primary',\n",
       " 'bare_ground',\n",
       " 'selective_logging',\n",
       " 'agriculture',\n",
       " 'water',\n",
       " 'cultivation',\n",
       " 'slash_burn',\n",
       " 'artisinal_mine',\n",
       " 'blow_down',\n",
       " 'cloudy',\n",
       " 'haze']"
      ]
     },
     "execution_count": 9,
     "metadata": {},
     "output_type": "execute_result"
    }
   ],
   "source": [
    "columns"
   ]
  },
  {
   "cell_type": "code",
   "execution_count": 10,
   "id": "407a91f5",
   "metadata": {
    "execution": {
     "iopub.execute_input": "2023-03-21T08:15:34.032342Z",
     "iopub.status.busy": "2023-03-21T08:15:34.031790Z",
     "iopub.status.idle": "2023-03-21T08:15:34.039257Z",
     "shell.execute_reply": "2023-03-21T08:15:34.038378Z"
    },
    "papermill": {
     "duration": 0.017292,
     "end_time": "2023-03-21T08:15:34.041303",
     "exception": false,
     "start_time": "2023-03-21T08:15:34.024011",
     "status": "completed"
    },
    "tags": []
   },
   "outputs": [],
   "source": [
    "def fbeta(y_true, y_pred, beta = 2, epsilon = 1e-4):\n",
    "    '''\n",
    "    Set y_true and y_pred\n",
    "\n",
    "    Args:\n",
    "        y_true: correct target values\n",
    "        Y_pred: predicted values returned by the classifer\n",
    "        beta = 2\n",
    "        epsilon= 1e-4\n",
    "        \n",
    "    Returns:\n",
    "        fbeta score\n",
    "    '''\n",
    "    \n",
    "    beta_squared = beta**2\n",
    "    \n",
    "    y_true = tf.cast(y_true, tf.float32)\n",
    "    y_pred = tf.cast(tf.greater(tf.cast(y_pred, tf.float32), tf.constant(0.5)), tf.float32)\n",
    "    \n",
    "    tp = tf.reduce_sum(y_true * y_pred, axis = 1)\n",
    "    fp = tf.reduce_sum(y_pred, axis = 1) - tp\n",
    "    fn = tf.reduce_sum(y_true, axis = 1) - tp\n",
    "    \n",
    "    precision = tp/(tp+fp+epsilon)\n",
    "    recall = tp/(tp+fn+epsilon)\n",
    "    \n",
    "    fb = (1+beta_squared)*precision*recall / (beta_squared*precision+recall+epsilon)\n",
    "    return fb"
   ]
  },
  {
   "cell_type": "code",
   "execution_count": 11,
   "id": "5982c9a4",
   "metadata": {
    "execution": {
     "iopub.execute_input": "2023-03-21T08:15:34.057319Z",
     "iopub.status.busy": "2023-03-21T08:15:34.056558Z",
     "iopub.status.idle": "2023-03-21T08:15:34.064254Z",
     "shell.execute_reply": "2023-03-21T08:15:34.063378Z"
    },
    "papermill": {
     "duration": 0.01759,
     "end_time": "2023-03-21T08:15:34.066352",
     "exception": false,
     "start_time": "2023-03-21T08:15:34.048762",
     "status": "completed"
    },
    "tags": []
   },
   "outputs": [],
   "source": [
    "def multi_label_acc(y_true, y_pred, epsilon = 1e-4):\n",
    "    '''\n",
    "    Retuns accuracy value for multi_label classification\n",
    "    \n",
    "    Set y_true and y_pred\n",
    "\n",
    "    Args:\n",
    "        y_true: correct target values\n",
    "        Y_pred: predicted values returned by the classifer\n",
    "        epsilon= 1e-4\n",
    "        \n",
    "    Returns:\n",
    "        Accuracy score\n",
    "    '''\n",
    "    y_true = tf.cast(y_true, tf.float32)\n",
    "    y_pred = tf.cast(tf.greater(tf.cast(y_pred, tf.float32), tf.constant(0.5)), tf.float32)\n",
    "    \n",
    "    tp = tf.reduce_sum(y_true * y_pred, axis = 1)\n",
    "    fp = tf.reduce_sum(y_pred, axis = 1) - tp\n",
    "    fn = tf.reduce_sum(y_true, axis = 1) - tp\n",
    "    \n",
    "    y_true = tf.cast(y_true, tf.bool)\n",
    "    y_pred = tf.cast(y_pred, tf.bool)\n",
    "        \n",
    "    tn = tf.reduce_sum(tf.cast(tf.logical_not(y_true), tf.float32)\n",
    "                       * tf.cast(tf.logical_not(y_pred), tf.float32), axis = 1)\n",
    "    \n",
    "    return (tp+tn)/(tp+tn+fp+fn+epsilon)"
   ]
  },
  {
   "cell_type": "code",
   "execution_count": 12,
   "id": "1aa44110",
   "metadata": {
    "execution": {
     "iopub.execute_input": "2023-03-21T08:15:34.081331Z",
     "iopub.status.busy": "2023-03-21T08:15:34.081070Z",
     "iopub.status.idle": "2023-03-21T08:15:34.091600Z",
     "shell.execute_reply": "2023-03-21T08:15:34.090633Z"
    },
    "papermill": {
     "duration": 0.020429,
     "end_time": "2023-03-21T08:15:34.093649",
     "exception": false,
     "start_time": "2023-03-21T08:15:34.073220",
     "status": "completed"
    },
    "tags": []
   },
   "outputs": [],
   "source": [
    "#defining our model\n",
    "def build_model():\n",
    "    model = Sequential()\n",
    "    model.add(BatchNormalization(input_shape=(128, 128, 3)))\n",
    "    model.add(Conv2D(32, kernel_size=(3, 3), padding='same', activation='relu'))\n",
    "    model.add(Conv2D(32, kernel_size=(3, 3), activation='relu'))\n",
    "    model.add(MaxPooling2D(pool_size=(2, 2)))\n",
    "    model.add(Dropout(0.2))\n",
    "\n",
    "    model.add(Conv2D(64, kernel_size=(3, 3), padding='same', activation='relu'))\n",
    "    model.add(Conv2D(64, kernel_size=(3, 3), activation='relu'))\n",
    "    model.add(MaxPooling2D(pool_size=(2, 2)))\n",
    "    model.add(Dropout(0.2))\n",
    "\n",
    "    model.add(Conv2D(128, kernel_size=(3, 3), padding='same', activation='relu'))\n",
    "    model.add(Conv2D(128, kernel_size=(3, 3), activation='relu'))\n",
    "    model.add(MaxPooling2D(pool_size=(2, 2)))\n",
    "    model.add(Dropout(0.2))\n",
    "\n",
    "    model.add(Conv2D(256, kernel_size=(3, 3), padding='same', activation='relu'))\n",
    "    model.add(Conv2D(256, kernel_size=(3, 3), activation='relu'))\n",
    "    model.add(MaxPooling2D(pool_size=(2, 2)))\n",
    "    model.add(Dropout(0.2))\n",
    "\n",
    "    model.add(Flatten())\n",
    "    model.add(Dense(512, activation='relu'))\n",
    "    model.add(Dropout(0.5))\n",
    "    model.add(Dense(17, activation='sigmoid'))\n",
    "\n",
    "    opt = Adam(lr=1e-4)\n",
    "    \n",
    "    # We need binary here, since categorical_crossentropy l1 norms the output before calculating loss.\n",
    "    model.compile(loss='binary_crossentropy',\n",
    "              optimizer=opt,\n",
    "              metrics=[multi_label_acc, fbeta])\n",
    "\n",
    "    return model"
   ]
  },
  {
   "cell_type": "code",
   "execution_count": 13,
   "id": "c3af0d1f",
   "metadata": {
    "execution": {
     "iopub.execute_input": "2023-03-21T08:15:34.108503Z",
     "iopub.status.busy": "2023-03-21T08:15:34.108247Z",
     "iopub.status.idle": "2023-03-21T08:15:34.112949Z",
     "shell.execute_reply": "2023-03-21T08:15:34.111886Z"
    },
    "papermill": {
     "duration": 0.014862,
     "end_time": "2023-03-21T08:15:34.115363",
     "exception": false,
     "start_time": "2023-03-21T08:15:34.100501",
     "status": "completed"
    },
    "tags": []
   },
   "outputs": [],
   "source": [
    "#modelcheckpoint is set to monitor the model using validation fbeta score and save the best only\n",
    "save_best_check_point = ModelCheckpoint(filepath = 'best_model.hdf5', \n",
    "                                        monitor = 'val_fbeta',\n",
    "                                        mode = 'max',\n",
    "                                        save_best_only = True,\n",
    "                                        save_weights_only = True)"
   ]
  },
  {
   "cell_type": "code",
   "execution_count": 14,
   "id": "47fe4d97",
   "metadata": {
    "execution": {
     "iopub.execute_input": "2023-03-21T08:15:34.131007Z",
     "iopub.status.busy": "2023-03-21T08:15:34.130170Z",
     "iopub.status.idle": "2023-03-21T08:16:44.536250Z",
     "shell.execute_reply": "2023-03-21T08:16:44.535290Z"
    },
    "papermill": {
     "duration": 70.416131,
     "end_time": "2023-03-21T08:16:44.538463",
     "exception": false,
     "start_time": "2023-03-21T08:15:34.122332",
     "status": "completed"
    },
    "tags": []
   },
   "outputs": [
    {
     "name": "stdout",
     "output_type": "stream",
     "text": [
      "Found 32384 validated image filenames.\n",
      "Found 8095 validated image filenames.\n"
     ]
    }
   ],
   "source": [
    "#initializing imagedatagenerator with a validation split of 0.2\n",
    "train_image_gen = ImageDataGenerator(rescale = 1/255, validation_split = 0.2)\n",
    "\n",
    "#generating train data generator which is 80% of the train dataset\n",
    "#note that a generator contains both features and target of the data\n",
    "train_generator = train_image_gen.flow_from_dataframe(dataframe=train,\n",
    "                                                directory =\"/kaggle/input/planets-dataset/planet/planet/train-jpg\",  \n",
    "                                                x_col=\"image_name\", y_col=columns, subset=\"training\", \n",
    "                                                batch_size=16,seed=2021, shuffle=True, \n",
    "                                                class_mode=\"raw\", target_size=(128,128))\n",
    "\n",
    "#generating validation data which is expected to be 20% of the train dataset since validation split is 0.2\n",
    "val_generator = train_image_gen.flow_from_dataframe(dataframe=train,\n",
    "                                                directory =\"/kaggle/input/planets-dataset/planet/planet/train-jpg\",  \n",
    "                                                x_col=\"image_name\", y_col=columns, subset=\"validation\", \n",
    "                                                batch_size=16,seed=2021, shuffle=True, \n",
    "                                                class_mode=\"raw\", target_size=(128,128))"
   ]
  },
  {
   "cell_type": "code",
   "execution_count": 15,
   "id": "895b6547",
   "metadata": {
    "execution": {
     "iopub.execute_input": "2023-03-21T08:16:44.555245Z",
     "iopub.status.busy": "2023-03-21T08:16:44.554389Z",
     "iopub.status.idle": "2023-03-21T08:16:44.559880Z",
     "shell.execute_reply": "2023-03-21T08:16:44.559000Z"
    },
    "papermill": {
     "duration": 0.015868,
     "end_time": "2023-03-21T08:16:44.561936",
     "exception": false,
     "start_time": "2023-03-21T08:16:44.546068",
     "status": "completed"
    },
    "tags": []
   },
   "outputs": [],
   "source": [
    "import numpy as np\n",
    "#setting up step size for training and validation image data\n",
    "step_train_size = int(np.ceil(train_generator.samples / train_generator.batch_size))\n",
    "step_val_size = int(np.ceil(val_generator.samples / val_generator.batch_size))"
   ]
  },
  {
   "cell_type": "code",
   "execution_count": 16,
   "id": "d0e5ac22",
   "metadata": {
    "execution": {
     "iopub.execute_input": "2023-03-21T08:16:44.577443Z",
     "iopub.status.busy": "2023-03-21T08:16:44.577176Z",
     "iopub.status.idle": "2023-03-21T08:16:47.742198Z",
     "shell.execute_reply": "2023-03-21T08:16:47.741180Z"
    },
    "papermill": {
     "duration": 3.175621,
     "end_time": "2023-03-21T08:16:47.744903",
     "exception": false,
     "start_time": "2023-03-21T08:16:44.569282",
     "status": "completed"
    },
    "tags": []
   },
   "outputs": [],
   "source": [
    "#initialize the model\n",
    "model1 = build_model()"
   ]
  },
  {
   "cell_type": "code",
   "execution_count": 17,
   "id": "0d567619",
   "metadata": {
    "execution": {
     "iopub.execute_input": "2023-03-21T08:16:47.761058Z",
     "iopub.status.busy": "2023-03-21T08:16:47.760749Z",
     "iopub.status.idle": "2023-03-21T08:16:47.808982Z",
     "shell.execute_reply": "2023-03-21T08:16:47.808154Z"
    },
    "papermill": {
     "duration": 0.102097,
     "end_time": "2023-03-21T08:16:47.854533",
     "exception": false,
     "start_time": "2023-03-21T08:16:47.752436",
     "status": "completed"
    },
    "tags": []
   },
   "outputs": [
    {
     "name": "stdout",
     "output_type": "stream",
     "text": [
      "Model: \"sequential\"\n",
      "_________________________________________________________________\n",
      " Layer (type)                Output Shape              Param #   \n",
      "=================================================================\n",
      " batch_normalization (BatchN  (None, 128, 128, 3)      12        \n",
      " ormalization)                                                   \n",
      "                                                                 \n",
      " conv2d (Conv2D)             (None, 128, 128, 32)      896       \n",
      "                                                                 \n",
      " conv2d_1 (Conv2D)           (None, 126, 126, 32)      9248      \n",
      "                                                                 \n",
      " max_pooling2d (MaxPooling2D  (None, 63, 63, 32)       0         \n",
      " )                                                               \n",
      "                                                                 \n",
      " dropout (Dropout)           (None, 63, 63, 32)        0         \n",
      "                                                                 \n",
      " conv2d_2 (Conv2D)           (None, 63, 63, 64)        18496     \n",
      "                                                                 \n",
      " conv2d_3 (Conv2D)           (None, 61, 61, 64)        36928     \n",
      "                                                                 \n",
      " max_pooling2d_1 (MaxPooling  (None, 30, 30, 64)       0         \n",
      " 2D)                                                             \n",
      "                                                                 \n",
      " dropout_1 (Dropout)         (None, 30, 30, 64)        0         \n",
      "                                                                 \n",
      " conv2d_4 (Conv2D)           (None, 30, 30, 128)       73856     \n",
      "                                                                 \n",
      " conv2d_5 (Conv2D)           (None, 28, 28, 128)       147584    \n",
      "                                                                 \n",
      " max_pooling2d_2 (MaxPooling  (None, 14, 14, 128)      0         \n",
      " 2D)                                                             \n",
      "                                                                 \n",
      " dropout_2 (Dropout)         (None, 14, 14, 128)       0         \n",
      "                                                                 \n",
      " conv2d_6 (Conv2D)           (None, 14, 14, 256)       295168    \n",
      "                                                                 \n",
      " conv2d_7 (Conv2D)           (None, 12, 12, 256)       590080    \n",
      "                                                                 \n",
      " max_pooling2d_3 (MaxPooling  (None, 6, 6, 256)        0         \n",
      " 2D)                                                             \n",
      "                                                                 \n",
      " dropout_3 (Dropout)         (None, 6, 6, 256)         0         \n",
      "                                                                 \n",
      " flatten (Flatten)           (None, 9216)              0         \n",
      "                                                                 \n",
      " dense (Dense)               (None, 512)               4719104   \n",
      "                                                                 \n",
      " dropout_4 (Dropout)         (None, 512)               0         \n",
      "                                                                 \n",
      " dense_1 (Dense)             (None, 17)                8721      \n",
      "                                                                 \n",
      "=================================================================\n",
      "Total params: 5,900,093\n",
      "Trainable params: 5,900,087\n",
      "Non-trainable params: 6\n",
      "_________________________________________________________________\n"
     ]
    }
   ],
   "source": [
    "# Preview the model architecture\n",
    "model1.summary()"
   ]
  },
  {
   "cell_type": "code",
   "execution_count": 18,
   "id": "02114352",
   "metadata": {
    "execution": {
     "iopub.execute_input": "2023-03-21T08:16:47.875753Z",
     "iopub.status.busy": "2023-03-21T08:16:47.875474Z",
     "iopub.status.idle": "2023-03-21T08:50:17.637065Z",
     "shell.execute_reply": "2023-03-21T08:50:17.636002Z"
    },
    "papermill": {
     "duration": 2009.774818,
     "end_time": "2023-03-21T08:50:17.639443",
     "exception": false,
     "start_time": "2023-03-21T08:16:47.864625",
     "status": "completed"
    },
    "tags": []
   },
   "outputs": [
    {
     "name": "stdout",
     "output_type": "stream",
     "text": [
      "Epoch 1/15\n"
     ]
    },
    {
     "name": "stderr",
     "output_type": "stream",
     "text": [
      "2023-03-21 08:16:49.970248: E tensorflow/core/grappler/optimizers/meta_optimizer.cc:954] layout failed: INVALID_ARGUMENT: Size of values 0 does not match size of permutation 4 @ fanin shape insequential/dropout/dropout/SelectV2-2-TransposeNHWCToNCHW-LayoutOptimizer\n"
     ]
    },
    {
     "name": "stdout",
     "output_type": "stream",
     "text": [
      "2024/2024 [==============================] - 291s 138ms/step - loss: 0.2048 - multi_label_acc: 0.9199 - fbeta: 0.7024 - val_loss: 0.1688 - val_multi_label_acc: 0.9341 - val_fbeta: 0.7652\n",
      "Epoch 2/15\n",
      "2024/2024 [==============================] - 118s 58ms/step - loss: 0.1701 - multi_label_acc: 0.9332 - fbeta: 0.7678 - val_loss: 0.1537 - val_multi_label_acc: 0.9393 - val_fbeta: 0.7879\n",
      "Epoch 3/15\n",
      "2024/2024 [==============================] - 119s 59ms/step - loss: 0.1602 - multi_label_acc: 0.9363 - fbeta: 0.7813 - val_loss: 0.1445 - val_multi_label_acc: 0.9419 - val_fbeta: 0.7926\n",
      "Epoch 4/15\n",
      "2024/2024 [==============================] - 119s 59ms/step - loss: 0.1513 - multi_label_acc: 0.9400 - fbeta: 0.8008 - val_loss: 0.1358 - val_multi_label_acc: 0.9457 - val_fbeta: 0.8170\n",
      "Epoch 5/15\n",
      "2024/2024 [==============================] - 118s 59ms/step - loss: 0.1446 - multi_label_acc: 0.9430 - fbeta: 0.8147 - val_loss: 0.1342 - val_multi_label_acc: 0.9481 - val_fbeta: 0.8322\n",
      "Epoch 6/15\n",
      "2024/2024 [==============================] - 119s 59ms/step - loss: 0.1412 - multi_label_acc: 0.9441 - fbeta: 0.8191 - val_loss: 0.1359 - val_multi_label_acc: 0.9466 - val_fbeta: 0.8437\n",
      "Epoch 7/15\n",
      "2024/2024 [==============================] - 118s 58ms/step - loss: 0.1389 - multi_label_acc: 0.9455 - fbeta: 0.8251 - val_loss: 0.1352 - val_multi_label_acc: 0.9492 - val_fbeta: 0.8376\n",
      "Epoch 8/15\n",
      "2024/2024 [==============================] - 119s 59ms/step - loss: 0.1349 - multi_label_acc: 0.9469 - fbeta: 0.8312 - val_loss: 0.1255 - val_multi_label_acc: 0.9512 - val_fbeta: 0.8404\n",
      "Epoch 9/15\n",
      "2024/2024 [==============================] - 119s 59ms/step - loss: 0.1331 - multi_label_acc: 0.9478 - fbeta: 0.8338 - val_loss: 0.1222 - val_multi_label_acc: 0.9525 - val_fbeta: 0.8522\n",
      "Epoch 10/15\n",
      "2024/2024 [==============================] - 120s 59ms/step - loss: 0.1302 - multi_label_acc: 0.9487 - fbeta: 0.8386 - val_loss: 0.1226 - val_multi_label_acc: 0.9512 - val_fbeta: 0.8376\n",
      "Epoch 11/15\n",
      "2024/2024 [==============================] - 120s 59ms/step - loss: 0.1304 - multi_label_acc: 0.9489 - fbeta: 0.8381 - val_loss: 0.1244 - val_multi_label_acc: 0.9518 - val_fbeta: 0.8412\n",
      "Epoch 12/15\n",
      "2024/2024 [==============================] - 122s 60ms/step - loss: 0.1305 - multi_label_acc: 0.9491 - fbeta: 0.8380 - val_loss: 0.1243 - val_multi_label_acc: 0.9530 - val_fbeta: 0.8446\n",
      "Epoch 13/15\n",
      "2024/2024 [==============================] - 120s 59ms/step - loss: 0.1289 - multi_label_acc: 0.9494 - fbeta: 0.8400 - val_loss: 0.1219 - val_multi_label_acc: 0.9530 - val_fbeta: 0.8524\n",
      "Epoch 14/15\n",
      "2024/2024 [==============================] - 121s 60ms/step - loss: 0.1278 - multi_label_acc: 0.9504 - fbeta: 0.8435 - val_loss: 0.1200 - val_multi_label_acc: 0.9532 - val_fbeta: 0.8551\n",
      "Epoch 15/15\n",
      "2024/2024 [==============================] - 121s 60ms/step - loss: 0.1267 - multi_label_acc: 0.9507 - fbeta: 0.8437 - val_loss: 0.1256 - val_multi_label_acc: 0.9526 - val_fbeta: 0.8499\n"
     ]
    },
    {
     "data": {
      "text/plain": [
       "<keras.callbacks.History at 0x7fa88d72dc10>"
      ]
     },
     "execution_count": 18,
     "metadata": {},
     "output_type": "execute_result"
    }
   ],
   "source": [
    "#fitting our model using the parameters already defined \n",
    "model1.fit(x = train_generator, \n",
    "           steps_per_epoch = step_train_size, \n",
    "           validation_data = val_generator, \n",
    "           validation_steps = step_val_size,epochs = 15, \n",
    "           callbacks=[save_best_check_point])"
   ]
  },
  {
   "cell_type": "code",
   "execution_count": 19,
   "id": "5da409c4",
   "metadata": {
    "execution": {
     "iopub.execute_input": "2023-03-21T08:50:19.750473Z",
     "iopub.status.busy": "2023-03-21T08:50:19.750105Z",
     "iopub.status.idle": "2023-03-21T08:50:19.901397Z",
     "shell.execute_reply": "2023-03-21T08:50:19.900383Z"
    },
    "papermill": {
     "duration": 1.175116,
     "end_time": "2023-03-21T08:50:19.904288",
     "exception": false,
     "start_time": "2023-03-21T08:50:18.729172",
     "status": "completed"
    },
    "tags": []
   },
   "outputs": [],
   "source": [
    "#initializing a second model to make predictions\n",
    "model2 = build_model()"
   ]
  },
  {
   "cell_type": "code",
   "execution_count": 20,
   "id": "05393bf7",
   "metadata": {
    "execution": {
     "iopub.execute_input": "2023-03-21T08:50:22.066680Z",
     "iopub.status.busy": "2023-03-21T08:50:22.065578Z",
     "iopub.status.idle": "2023-03-21T08:50:22.144389Z",
     "shell.execute_reply": "2023-03-21T08:50:22.143322Z"
    },
    "papermill": {
     "duration": 1.155596,
     "end_time": "2023-03-21T08:50:22.147210",
     "exception": false,
     "start_time": "2023-03-21T08:50:20.991614",
     "status": "completed"
    },
    "tags": []
   },
   "outputs": [],
   "source": [
    "#loading in the weights of the trained model\n",
    "model2.load_weights('best_model.hdf5')"
   ]
  },
  {
   "cell_type": "code",
   "execution_count": 21,
   "id": "7bc4eed9",
   "metadata": {
    "execution": {
     "iopub.execute_input": "2023-03-21T08:50:24.332944Z",
     "iopub.status.busy": "2023-03-21T08:50:24.332591Z",
     "iopub.status.idle": "2023-03-21T08:50:24.447929Z",
     "shell.execute_reply": "2023-03-21T08:50:24.446984Z"
    },
    "papermill": {
     "duration": 1.224838,
     "end_time": "2023-03-21T08:50:24.450266",
     "exception": false,
     "start_time": "2023-03-21T08:50:23.225428",
     "status": "completed"
    },
    "tags": []
   },
   "outputs": [
    {
     "data": {
      "text/html": [
       "<div>\n",
       "<style scoped>\n",
       "    .dataframe tbody tr th:only-of-type {\n",
       "        vertical-align: middle;\n",
       "    }\n",
       "\n",
       "    .dataframe tbody tr th {\n",
       "        vertical-align: top;\n",
       "    }\n",
       "\n",
       "    .dataframe thead th {\n",
       "        text-align: right;\n",
       "    }\n",
       "</style>\n",
       "<table border=\"1\" class=\"dataframe\">\n",
       "  <thead>\n",
       "    <tr style=\"text-align: right;\">\n",
       "      <th></th>\n",
       "      <th>image_name</th>\n",
       "      <th>tags</th>\n",
       "    </tr>\n",
       "  </thead>\n",
       "  <tbody>\n",
       "    <tr>\n",
       "      <th>0</th>\n",
       "      <td>test_0.jpg</td>\n",
       "      <td>primary clear agriculture road water</td>\n",
       "    </tr>\n",
       "    <tr>\n",
       "      <th>1</th>\n",
       "      <td>test_1.jpg</td>\n",
       "      <td>primary clear agriculture road water</td>\n",
       "    </tr>\n",
       "    <tr>\n",
       "      <th>2</th>\n",
       "      <td>test_2.jpg</td>\n",
       "      <td>primary clear agriculture road water</td>\n",
       "    </tr>\n",
       "    <tr>\n",
       "      <th>3</th>\n",
       "      <td>test_3.jpg</td>\n",
       "      <td>primary clear agriculture road water</td>\n",
       "    </tr>\n",
       "    <tr>\n",
       "      <th>4</th>\n",
       "      <td>test_4.jpg</td>\n",
       "      <td>primary clear agriculture road water</td>\n",
       "    </tr>\n",
       "  </tbody>\n",
       "</table>\n",
       "</div>"
      ],
      "text/plain": [
       "   image_name                                  tags\n",
       "0  test_0.jpg  primary clear agriculture road water\n",
       "1  test_1.jpg  primary clear agriculture road water\n",
       "2  test_2.jpg  primary clear agriculture road water\n",
       "3  test_3.jpg  primary clear agriculture road water\n",
       "4  test_4.jpg  primary clear agriculture road water"
      ]
     },
     "execution_count": 21,
     "metadata": {},
     "output_type": "execute_result"
    }
   ],
   "source": [
    "##adding .jpg extension to image name in the sample submission file\n",
    "sample_submission = pd.read_csv('/kaggle/input/planets-dataset/planet/planet/sample_submission.csv')\n",
    "sample_submission1 = sample_submission.copy()\n",
    "sample_submission1['image_name'] = sample_submission1['image_name'].apply(lambda x: '{}.jpg'.format(x))\n",
    "sample_submission1.head()"
   ]
  },
  {
   "cell_type": "code",
   "execution_count": 22,
   "id": "d874cfef",
   "metadata": {
    "execution": {
     "iopub.execute_input": "2023-03-21T08:50:26.755704Z",
     "iopub.status.busy": "2023-03-21T08:50:26.755339Z",
     "iopub.status.idle": "2023-03-21T08:50:26.771126Z",
     "shell.execute_reply": "2023-03-21T08:50:26.770201Z"
    },
    "papermill": {
     "duration": 1.138247,
     "end_time": "2023-03-21T08:50:26.773262",
     "exception": false,
     "start_time": "2023-03-21T08:50:25.635015",
     "status": "completed"
    },
    "tags": []
   },
   "outputs": [
    {
     "data": {
      "text/html": [
       "<div>\n",
       "<style scoped>\n",
       "    .dataframe tbody tr th:only-of-type {\n",
       "        vertical-align: middle;\n",
       "    }\n",
       "\n",
       "    .dataframe tbody tr th {\n",
       "        vertical-align: top;\n",
       "    }\n",
       "\n",
       "    .dataframe thead th {\n",
       "        text-align: right;\n",
       "    }\n",
       "</style>\n",
       "<table border=\"1\" class=\"dataframe\">\n",
       "  <thead>\n",
       "    <tr style=\"text-align: right;\">\n",
       "      <th></th>\n",
       "      <th>image_name</th>\n",
       "    </tr>\n",
       "  </thead>\n",
       "  <tbody>\n",
       "    <tr>\n",
       "      <th>0</th>\n",
       "      <td>test_0.jpg</td>\n",
       "    </tr>\n",
       "    <tr>\n",
       "      <th>1</th>\n",
       "      <td>test_1.jpg</td>\n",
       "    </tr>\n",
       "    <tr>\n",
       "      <th>2</th>\n",
       "      <td>test_2.jpg</td>\n",
       "    </tr>\n",
       "    <tr>\n",
       "      <th>3</th>\n",
       "      <td>test_3.jpg</td>\n",
       "    </tr>\n",
       "    <tr>\n",
       "      <th>4</th>\n",
       "      <td>test_4.jpg</td>\n",
       "    </tr>\n",
       "  </tbody>\n",
       "</table>\n",
       "</div>"
      ],
      "text/plain": [
       "   image_name\n",
       "0  test_0.jpg\n",
       "1  test_1.jpg\n",
       "2  test_2.jpg\n",
       "3  test_3.jpg\n",
       "4  test_4.jpg"
      ]
     },
     "execution_count": 22,
     "metadata": {},
     "output_type": "execute_result"
    }
   ],
   "source": [
    "# Divide the sample submission file into two splits,\n",
    "# first test_df which contains the first 40669 images \n",
    "test_df = sample_submission1.iloc[:40669]['image_name'].reset_index().drop('index', axis =1)\n",
    "test_df.head()"
   ]
  },
  {
   "cell_type": "code",
   "execution_count": 23,
   "id": "2ea90f4e",
   "metadata": {
    "execution": {
     "iopub.execute_input": "2023-03-21T08:50:28.913585Z",
     "iopub.status.busy": "2023-03-21T08:50:28.912672Z",
     "iopub.status.idle": "2023-03-21T08:52:26.806069Z",
     "shell.execute_reply": "2023-03-21T08:52:26.804942Z"
    },
    "papermill": {
     "duration": 119.918862,
     "end_time": "2023-03-21T08:52:27.764840",
     "exception": false,
     "start_time": "2023-03-21T08:50:27.845978",
     "status": "completed"
    },
    "tags": []
   },
   "outputs": [
    {
     "name": "stdout",
     "output_type": "stream",
     "text": [
      "Found 40669 validated image filenames.\n"
     ]
    }
   ],
   "source": [
    "#initialize imagedatagenerator for the test images and also rescaling\n",
    "test_image_gen = ImageDataGenerator(rescale = 1/255)\n",
    "\n",
    "#creating a generator for the images found in the first test image files\n",
    "test_generator = test_image_gen.flow_from_dataframe(dataframe=test_df, \n",
    "                                                directory=\"/kaggle/input/planets-dataset/planet/planet/test-jpg\", \n",
    "                                                x_col=\"image_name\", \n",
    "                                                y_col=None, \n",
    "                                                batch_size=16, \n",
    "                                                shuffle=False, \n",
    "                                                class_mode=None, \n",
    "                                                target_size=(128,128))\n",
    "\n",
    "step_test_size = int(np.ceil(test_generator.samples/test_generator.batch_size))\n",
    "\n"
   ]
  },
  {
   "cell_type": "code",
   "execution_count": 24,
   "id": "bdecb2f6",
   "metadata": {
    "execution": {
     "iopub.execute_input": "2023-03-21T08:52:29.931077Z",
     "iopub.status.busy": "2023-03-21T08:52:29.930672Z",
     "iopub.status.idle": "2023-03-21T08:57:35.694283Z",
     "shell.execute_reply": "2023-03-21T08:57:35.693187Z"
    },
    "papermill": {
     "duration": 306.853217,
     "end_time": "2023-03-21T08:57:35.696985",
     "exception": false,
     "start_time": "2023-03-21T08:52:28.843768",
     "status": "completed"
    },
    "tags": []
   },
   "outputs": [
    {
     "name": "stdout",
     "output_type": "stream",
     "text": [
      "2542/2542 [==============================] - 304s 119ms/step\n"
     ]
    }
   ],
   "source": [
    "#first, we reset the test generator to avoid shuffling of index as we want it to be orderly\n",
    "test_generator.reset()\n",
    "pred = model2.predict(test_generator, steps = step_test_size, verbose = 1)"
   ]
  },
  {
   "cell_type": "code",
   "execution_count": 25,
   "id": "5460a36a",
   "metadata": {
    "execution": {
     "iopub.execute_input": "2023-03-21T08:57:38.063587Z",
     "iopub.status.busy": "2023-03-21T08:57:38.063209Z",
     "iopub.status.idle": "2023-03-21T08:57:47.081639Z",
     "shell.execute_reply": "2023-03-21T08:57:47.080695Z"
    },
    "papermill": {
     "duration": 10.228634,
     "end_time": "2023-03-21T08:57:47.083870",
     "exception": false,
     "start_time": "2023-03-21T08:57:36.855236",
     "status": "completed"
    },
    "tags": []
   },
   "outputs": [
    {
     "data": {
      "text/html": [
       "<div>\n",
       "<style scoped>\n",
       "    .dataframe tbody tr th:only-of-type {\n",
       "        vertical-align: middle;\n",
       "    }\n",
       "\n",
       "    .dataframe tbody tr th {\n",
       "        vertical-align: top;\n",
       "    }\n",
       "\n",
       "    .dataframe thead th {\n",
       "        text-align: right;\n",
       "    }\n",
       "</style>\n",
       "<table border=\"1\" class=\"dataframe\">\n",
       "  <thead>\n",
       "    <tr style=\"text-align: right;\">\n",
       "      <th></th>\n",
       "      <th>image_name</th>\n",
       "      <th>tags</th>\n",
       "    </tr>\n",
       "  </thead>\n",
       "  <tbody>\n",
       "    <tr>\n",
       "      <th>0</th>\n",
       "      <td>test_0.jpg</td>\n",
       "      <td>clear primary</td>\n",
       "    </tr>\n",
       "    <tr>\n",
       "      <th>1</th>\n",
       "      <td>test_1.jpg</td>\n",
       "      <td>clear primary</td>\n",
       "    </tr>\n",
       "    <tr>\n",
       "      <th>2</th>\n",
       "      <td>test_2.jpg</td>\n",
       "      <td>partly_cloudy primary</td>\n",
       "    </tr>\n",
       "    <tr>\n",
       "      <th>3</th>\n",
       "      <td>test_3.jpg</td>\n",
       "      <td>clear primary</td>\n",
       "    </tr>\n",
       "    <tr>\n",
       "      <th>4</th>\n",
       "      <td>test_4.jpg</td>\n",
       "      <td>cloudy</td>\n",
       "    </tr>\n",
       "  </tbody>\n",
       "</table>\n",
       "</div>"
      ],
      "text/plain": [
       "   image_name                   tags\n",
       "0  test_0.jpg          clear primary\n",
       "1  test_1.jpg          clear primary\n",
       "2  test_2.jpg  partly_cloudy primary\n",
       "3  test_3.jpg          clear primary\n",
       "4  test_4.jpg                 cloudy"
      ]
     },
     "execution_count": 25,
     "metadata": {},
     "output_type": "execute_result"
    }
   ],
   "source": [
    "#this is to get the filenames in the generator using the attribute .filenames\n",
    "file_names = test_generator.filenames\n",
    "\n",
    "#convert the predicted values to a dataframe and join two labels together if the probability of occurrance \n",
    "#of the label is greater than 0.5 \n",
    "pred_tags = pd.DataFrame(pred)\n",
    "pred_tags = pred_tags.apply(lambda x: ' '.join(np.array(labels)[x>0.5]), axis = 1)\n",
    "\n",
    "#then the result should look like this \n",
    "result1 = pd.DataFrame({'image_name': file_names, 'tags': pred_tags})\n",
    "result1.head()"
   ]
  },
  {
   "cell_type": "code",
   "execution_count": 26,
   "id": "c7dfa083",
   "metadata": {
    "execution": {
     "iopub.execute_input": "2023-03-21T08:57:49.486615Z",
     "iopub.status.busy": "2023-03-21T08:57:49.486250Z",
     "iopub.status.idle": "2023-03-21T08:57:49.499493Z",
     "shell.execute_reply": "2023-03-21T08:57:49.497907Z"
    },
    "papermill": {
     "duration": 1.216018,
     "end_time": "2023-03-21T08:57:49.501700",
     "exception": false,
     "start_time": "2023-03-21T08:57:48.285682",
     "status": "completed"
    },
    "tags": []
   },
   "outputs": [
    {
     "data": {
      "text/html": [
       "<div>\n",
       "<style scoped>\n",
       "    .dataframe tbody tr th:only-of-type {\n",
       "        vertical-align: middle;\n",
       "    }\n",
       "\n",
       "    .dataframe tbody tr th {\n",
       "        vertical-align: top;\n",
       "    }\n",
       "\n",
       "    .dataframe thead th {\n",
       "        text-align: right;\n",
       "    }\n",
       "</style>\n",
       "<table border=\"1\" class=\"dataframe\">\n",
       "  <thead>\n",
       "    <tr style=\"text-align: right;\">\n",
       "      <th></th>\n",
       "      <th>image_name</th>\n",
       "    </tr>\n",
       "  </thead>\n",
       "  <tbody>\n",
       "    <tr>\n",
       "      <th>0</th>\n",
       "      <td>file_0.jpg</td>\n",
       "    </tr>\n",
       "    <tr>\n",
       "      <th>1</th>\n",
       "      <td>file_1.jpg</td>\n",
       "    </tr>\n",
       "    <tr>\n",
       "      <th>2</th>\n",
       "      <td>file_10.jpg</td>\n",
       "    </tr>\n",
       "    <tr>\n",
       "      <th>3</th>\n",
       "      <td>file_100.jpg</td>\n",
       "    </tr>\n",
       "    <tr>\n",
       "      <th>4</th>\n",
       "      <td>file_1000.jpg</td>\n",
       "    </tr>\n",
       "  </tbody>\n",
       "</table>\n",
       "</div>"
      ],
      "text/plain": [
       "      image_name\n",
       "0     file_0.jpg\n",
       "1     file_1.jpg\n",
       "2    file_10.jpg\n",
       "3   file_100.jpg\n",
       "4  file_1000.jpg"
      ]
     },
     "execution_count": 26,
     "metadata": {},
     "output_type": "execute_result"
    }
   ],
   "source": [
    "#additional test dataset\n",
    "add_test_df = sample_submission1.iloc[40669:]['image_name'].reset_index().drop('index', axis =1)\n",
    "add_test_df.head()"
   ]
  },
  {
   "cell_type": "code",
   "execution_count": 27,
   "id": "7a7748b2",
   "metadata": {
    "execution": {
     "iopub.execute_input": "2023-03-21T08:57:51.913066Z",
     "iopub.status.busy": "2023-03-21T08:57:51.912685Z",
     "iopub.status.idle": "2023-03-21T08:58:54.989559Z",
     "shell.execute_reply": "2023-03-21T08:58:54.988505Z"
    },
    "papermill": {
     "duration": 65.796891,
     "end_time": "2023-03-21T08:58:56.502024",
     "exception": false,
     "start_time": "2023-03-21T08:57:50.705133",
     "status": "completed"
    },
    "tags": []
   },
   "outputs": [
    {
     "name": "stdout",
     "output_type": "stream",
     "text": [
      "Found 20522 validated image filenames.\n"
     ]
    }
   ],
   "source": [
    "#creating a generator for the additional test image files\n",
    "add_test_generator = test_image_gen.flow_from_dataframe(dataframe = add_test_df, \n",
    "                                                    directory =\"/kaggle/input/planets-dataset/test-jpg-additional/test-jpg-additional\", \n",
    "                                                    x_col=\"image_name\", \n",
    "                                                    y_col=None, \n",
    "                                                    batch_size=16, \n",
    "                                                    shuffle=False, \n",
    "                                                    class_mode=None, \n",
    "                                                    target_size=(128,128))\n",
    "\n",
    "\n",
    "step_test_size2 = int(np.ceil(add_test_generator.samples/add_test_generator.batch_size))"
   ]
  },
  {
   "cell_type": "code",
   "execution_count": 28,
   "id": "c9a3536c",
   "metadata": {
    "execution": {
     "iopub.execute_input": "2023-03-21T08:58:59.084737Z",
     "iopub.status.busy": "2023-03-21T08:58:59.084377Z",
     "iopub.status.idle": "2023-03-21T09:01:39.165492Z",
     "shell.execute_reply": "2023-03-21T09:01:39.164421Z"
    },
    "papermill": {
     "duration": 161.31782,
     "end_time": "2023-03-21T09:01:39.168192",
     "exception": false,
     "start_time": "2023-03-21T08:58:57.850372",
     "status": "completed"
    },
    "tags": []
   },
   "outputs": [
    {
     "name": "stdout",
     "output_type": "stream",
     "text": [
      "1283/1283 [==============================] - 159s 124ms/step\n"
     ]
    }
   ],
   "source": [
    "#we reset the generator to avoid shuffling, then make prediction on the generator\n",
    "add_test_generator.reset()\n",
    "add_pred = model2.predict(add_test_generator, steps = step_test_size2, verbose = 1)"
   ]
  },
  {
   "cell_type": "code",
   "execution_count": 29,
   "id": "c721eea7",
   "metadata": {
    "execution": {
     "iopub.execute_input": "2023-03-21T09:01:41.677934Z",
     "iopub.status.busy": "2023-03-21T09:01:41.677550Z",
     "iopub.status.idle": "2023-03-21T09:01:45.896868Z",
     "shell.execute_reply": "2023-03-21T09:01:45.895848Z"
    },
    "papermill": {
     "duration": 5.504238,
     "end_time": "2023-03-21T09:01:45.898981",
     "exception": false,
     "start_time": "2023-03-21T09:01:40.394743",
     "status": "completed"
    },
    "tags": []
   },
   "outputs": [
    {
     "data": {
      "text/html": [
       "<div>\n",
       "<style scoped>\n",
       "    .dataframe tbody tr th:only-of-type {\n",
       "        vertical-align: middle;\n",
       "    }\n",
       "\n",
       "    .dataframe tbody tr th {\n",
       "        vertical-align: top;\n",
       "    }\n",
       "\n",
       "    .dataframe thead th {\n",
       "        text-align: right;\n",
       "    }\n",
       "</style>\n",
       "<table border=\"1\" class=\"dataframe\">\n",
       "  <thead>\n",
       "    <tr style=\"text-align: right;\">\n",
       "      <th></th>\n",
       "      <th>image_name</th>\n",
       "      <th>tags</th>\n",
       "    </tr>\n",
       "  </thead>\n",
       "  <tbody>\n",
       "    <tr>\n",
       "      <th>0</th>\n",
       "      <td>file_0.jpg</td>\n",
       "      <td>clearprimary</td>\n",
       "    </tr>\n",
       "    <tr>\n",
       "      <th>1</th>\n",
       "      <td>file_1.jpg</td>\n",
       "      <td>partly_cloudyprimaryagriculture</td>\n",
       "    </tr>\n",
       "    <tr>\n",
       "      <th>2</th>\n",
       "      <td>file_10.jpg</td>\n",
       "      <td>primarywater</td>\n",
       "    </tr>\n",
       "    <tr>\n",
       "      <th>3</th>\n",
       "      <td>file_100.jpg</td>\n",
       "      <td>clearprimaryagriculture</td>\n",
       "    </tr>\n",
       "    <tr>\n",
       "      <th>4</th>\n",
       "      <td>file_1000.jpg</td>\n",
       "      <td>clearprimary</td>\n",
       "    </tr>\n",
       "  </tbody>\n",
       "</table>\n",
       "</div>"
      ],
      "text/plain": [
       "      image_name                             tags\n",
       "0     file_0.jpg                     clearprimary\n",
       "1     file_1.jpg  partly_cloudyprimaryagriculture\n",
       "2    file_10.jpg                     primarywater\n",
       "3   file_100.jpg          clearprimaryagriculture\n",
       "4  file_1000.jpg                     clearprimary"
      ]
     },
     "execution_count": 29,
     "metadata": {},
     "output_type": "execute_result"
    }
   ],
   "source": [
    "#this is to get the filenames in the generator using the attribute .filenames\n",
    "file_names = add_test_generator.filenames\n",
    "\n",
    "#convert the predicted values to a dataframe and join two labels together if the probability of occurrance \n",
    "#of the label is greater than 0.5\n",
    "add_pred_tags = pd.DataFrame(add_pred)\n",
    "add_pred_tags = add_pred_tags.apply(lambda x: ''.join(np.array(labels)[x>0.5]), axis = 1)\n",
    "\n",
    "#then the result should look like this\n",
    "result2 = pd.DataFrame({'image_name': file_names, 'tags': add_pred_tags})\n",
    "result2.head()"
   ]
  },
  {
   "cell_type": "code",
   "execution_count": 30,
   "id": "6d071462",
   "metadata": {
    "execution": {
     "iopub.execute_input": "2023-03-21T09:01:48.654083Z",
     "iopub.status.busy": "2023-03-21T09:01:48.653695Z",
     "iopub.status.idle": "2023-03-21T09:01:48.674327Z",
     "shell.execute_reply": "2023-03-21T09:01:48.673254Z"
    },
    "papermill": {
     "duration": 1.514219,
     "end_time": "2023-03-21T09:01:48.676548",
     "exception": false,
     "start_time": "2023-03-21T09:01:47.162329",
     "status": "completed"
    },
    "tags": []
   },
   "outputs": [
    {
     "name": "stdout",
     "output_type": "stream",
     "text": [
      "(61191, 2)\n"
     ]
    },
    {
     "data": {
      "text/html": [
       "<div>\n",
       "<style scoped>\n",
       "    .dataframe tbody tr th:only-of-type {\n",
       "        vertical-align: middle;\n",
       "    }\n",
       "\n",
       "    .dataframe tbody tr th {\n",
       "        vertical-align: top;\n",
       "    }\n",
       "\n",
       "    .dataframe thead th {\n",
       "        text-align: right;\n",
       "    }\n",
       "</style>\n",
       "<table border=\"1\" class=\"dataframe\">\n",
       "  <thead>\n",
       "    <tr style=\"text-align: right;\">\n",
       "      <th></th>\n",
       "      <th>image_name</th>\n",
       "      <th>tags</th>\n",
       "    </tr>\n",
       "  </thead>\n",
       "  <tbody>\n",
       "    <tr>\n",
       "      <th>0</th>\n",
       "      <td>test_0.jpg</td>\n",
       "      <td>clear primary</td>\n",
       "    </tr>\n",
       "    <tr>\n",
       "      <th>1</th>\n",
       "      <td>test_1.jpg</td>\n",
       "      <td>clear primary</td>\n",
       "    </tr>\n",
       "    <tr>\n",
       "      <th>2</th>\n",
       "      <td>test_2.jpg</td>\n",
       "      <td>partly_cloudy primary</td>\n",
       "    </tr>\n",
       "    <tr>\n",
       "      <th>3</th>\n",
       "      <td>test_3.jpg</td>\n",
       "      <td>clear primary</td>\n",
       "    </tr>\n",
       "    <tr>\n",
       "      <th>4</th>\n",
       "      <td>test_4.jpg</td>\n",
       "      <td>cloudy</td>\n",
       "    </tr>\n",
       "  </tbody>\n",
       "</table>\n",
       "</div>"
      ],
      "text/plain": [
       "   image_name                   tags\n",
       "0  test_0.jpg          clear primary\n",
       "1  test_1.jpg          clear primary\n",
       "2  test_2.jpg  partly_cloudy primary\n",
       "3  test_3.jpg          clear primary\n",
       "4  test_4.jpg                 cloudy"
      ]
     },
     "execution_count": 30,
     "metadata": {},
     "output_type": "execute_result"
    }
   ],
   "source": [
    "#for the final result of the predicted tags for the test images,\n",
    "# we need to concat the first and second results in \n",
    "#that order to avoid shuffling the index\n",
    "last_result = pd.concat([result1, result2])\n",
    "\n",
    "last_result = last_result.reset_index().drop('index', axis =1)\n",
    "\n",
    "print(last_result.shape)\n",
    "#print the final result\n",
    "last_result.head()"
   ]
  },
  {
   "cell_type": "code",
   "execution_count": 31,
   "id": "9a9aed6b",
   "metadata": {
    "execution": {
     "iopub.execute_input": "2023-03-21T09:01:51.220011Z",
     "iopub.status.busy": "2023-03-21T09:01:51.219627Z",
     "iopub.status.idle": "2023-03-21T09:01:51.244806Z",
     "shell.execute_reply": "2023-03-21T09:01:51.243741Z"
    },
    "papermill": {
     "duration": 1.303348,
     "end_time": "2023-03-21T09:01:51.247218",
     "exception": false,
     "start_time": "2023-03-21T09:01:49.943870",
     "status": "completed"
    },
    "tags": []
   },
   "outputs": [
    {
     "data": {
      "text/html": [
       "<div>\n",
       "<style scoped>\n",
       "    .dataframe tbody tr th:only-of-type {\n",
       "        vertical-align: middle;\n",
       "    }\n",
       "\n",
       "    .dataframe tbody tr th {\n",
       "        vertical-align: top;\n",
       "    }\n",
       "\n",
       "    .dataframe thead th {\n",
       "        text-align: right;\n",
       "    }\n",
       "</style>\n",
       "<table border=\"1\" class=\"dataframe\">\n",
       "  <thead>\n",
       "    <tr style=\"text-align: right;\">\n",
       "      <th></th>\n",
       "      <th>image_name</th>\n",
       "      <th>tags</th>\n",
       "    </tr>\n",
       "  </thead>\n",
       "  <tbody>\n",
       "    <tr>\n",
       "      <th>0</th>\n",
       "      <td>test_0</td>\n",
       "      <td>clear primary</td>\n",
       "    </tr>\n",
       "    <tr>\n",
       "      <th>1</th>\n",
       "      <td>test_1</td>\n",
       "      <td>clear primary</td>\n",
       "    </tr>\n",
       "    <tr>\n",
       "      <th>2</th>\n",
       "      <td>test_2</td>\n",
       "      <td>partly_cloudy primary</td>\n",
       "    </tr>\n",
       "    <tr>\n",
       "      <th>3</th>\n",
       "      <td>test_3</td>\n",
       "      <td>clear primary</td>\n",
       "    </tr>\n",
       "    <tr>\n",
       "      <th>4</th>\n",
       "      <td>test_4</td>\n",
       "      <td>cloudy</td>\n",
       "    </tr>\n",
       "  </tbody>\n",
       "</table>\n",
       "</div>"
      ],
      "text/plain": [
       "  image_name                   tags\n",
       "0     test_0          clear primary\n",
       "1     test_1          clear primary\n",
       "2     test_2  partly_cloudy primary\n",
       "3     test_3          clear primary\n",
       "4     test_4                 cloudy"
      ]
     },
     "execution_count": 31,
     "metadata": {},
     "output_type": "execute_result"
    }
   ],
   "source": [
    "#we need to remove the .jpg extension from the image_name of the\n",
    "# last_result because from the sample submission the \n",
    "#extension was not there, we added it for easy manipulation of the data.\n",
    "last_result['image_name'] = last_result['image_name'].apply(lambda x: x[:-4])\n",
    "last_result.head()"
   ]
  },
  {
   "cell_type": "code",
   "execution_count": 32,
   "id": "fdc8330e",
   "metadata": {
    "execution": {
     "iopub.execute_input": "2023-03-21T09:01:53.778477Z",
     "iopub.status.busy": "2023-03-21T09:01:53.778116Z",
     "iopub.status.idle": "2023-03-21T09:01:53.854577Z",
     "shell.execute_reply": "2023-03-21T09:01:53.853604Z"
    },
    "papermill": {
     "duration": 1.341556,
     "end_time": "2023-03-21T09:01:53.856794",
     "exception": false,
     "start_time": "2023-03-21T09:01:52.515238",
     "status": "completed"
    },
    "tags": []
   },
   "outputs": [],
   "source": [
    "# Finally, we save the result to a csv file using the .to_csv() \n",
    "# method and setting the index to false.\n",
    "last_result.to_csv('submission1.csv', index = False)"
   ]
  }
 ],
 "metadata": {
  "kernelspec": {
   "display_name": "Python 3",
   "language": "python",
   "name": "python3"
  },
  "language_info": {
   "codemirror_mode": {
    "name": "ipython",
    "version": 3
   },
   "file_extension": ".py",
   "mimetype": "text/x-python",
   "name": "python",
   "nbconvert_exporter": "python",
   "pygments_lexer": "ipython3",
   "version": "3.7.12"
  },
  "papermill": {
   "default_parameters": {},
   "duration": 2802.433169,
   "end_time": "2023-03-21T09:01:58.204113",
   "environment_variables": {},
   "exception": null,
   "input_path": "__notebook__.ipynb",
   "output_path": "__notebook__.ipynb",
   "parameters": {},
   "start_time": "2023-03-21T08:15:15.770944",
   "version": "2.4.0"
  }
 },
 "nbformat": 4,
 "nbformat_minor": 5
}
